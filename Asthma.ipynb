{
 "cells": [
  {
   "cell_type": "code",
   "execution_count": 1,
   "id": "68b20a4e-8f76-4c87-ae35-a841e613e356",
   "metadata": {},
   "outputs": [],
   "source": [
    "import pandas as pd\n",
    "df=pd.read_csv(r\"C:\\Users\\caash\\Downloads\\archive (8)\\synthetic_asthma_dataset.csv\")"
   ]
  },
  {
   "cell_type": "code",
   "execution_count": 2,
   "id": "6bcbc265-8b25-40de-bf70-f44a53225938",
   "metadata": {},
   "outputs": [
    {
     "data": {
      "text/html": [
       "<div>\n",
       "<style scoped>\n",
       "    .dataframe tbody tr th:only-of-type {\n",
       "        vertical-align: middle;\n",
       "    }\n",
       "\n",
       "    .dataframe tbody tr th {\n",
       "        vertical-align: top;\n",
       "    }\n",
       "\n",
       "    .dataframe thead th {\n",
       "        text-align: right;\n",
       "    }\n",
       "</style>\n",
       "<table border=\"1\" class=\"dataframe\">\n",
       "  <thead>\n",
       "    <tr style=\"text-align: right;\">\n",
       "      <th></th>\n",
       "      <th>Patient_ID</th>\n",
       "      <th>Age</th>\n",
       "      <th>Gender</th>\n",
       "      <th>BMI</th>\n",
       "      <th>Smoking_Status</th>\n",
       "      <th>Family_History</th>\n",
       "      <th>Allergies</th>\n",
       "      <th>Air_Pollution_Level</th>\n",
       "      <th>Physical_Activity_Level</th>\n",
       "      <th>Occupation_Type</th>\n",
       "      <th>Comorbidities</th>\n",
       "      <th>Medication_Adherence</th>\n",
       "      <th>Number_of_ER_Visits</th>\n",
       "      <th>Peak_Expiratory_Flow</th>\n",
       "      <th>FeNO_Level</th>\n",
       "      <th>Has_Asthma</th>\n",
       "      <th>Asthma_Control_Level</th>\n",
       "    </tr>\n",
       "  </thead>\n",
       "  <tbody>\n",
       "    <tr>\n",
       "      <th>0</th>\n",
       "      <td>ASTH100000</td>\n",
       "      <td>52</td>\n",
       "      <td>Female</td>\n",
       "      <td>27.6</td>\n",
       "      <td>Former</td>\n",
       "      <td>1</td>\n",
       "      <td>NaN</td>\n",
       "      <td>Moderate</td>\n",
       "      <td>Sedentary</td>\n",
       "      <td>Outdoor</td>\n",
       "      <td>Diabetes</td>\n",
       "      <td>0.38</td>\n",
       "      <td>0</td>\n",
       "      <td>421.0</td>\n",
       "      <td>46.0</td>\n",
       "      <td>0</td>\n",
       "      <td>NaN</td>\n",
       "    </tr>\n",
       "    <tr>\n",
       "      <th>1</th>\n",
       "      <td>ASTH100001</td>\n",
       "      <td>15</td>\n",
       "      <td>Male</td>\n",
       "      <td>24.6</td>\n",
       "      <td>Former</td>\n",
       "      <td>0</td>\n",
       "      <td>Dust</td>\n",
       "      <td>Low</td>\n",
       "      <td>Moderate</td>\n",
       "      <td>Indoor</td>\n",
       "      <td>Both</td>\n",
       "      <td>0.60</td>\n",
       "      <td>2</td>\n",
       "      <td>297.6</td>\n",
       "      <td>22.9</td>\n",
       "      <td>0</td>\n",
       "      <td>NaN</td>\n",
       "    </tr>\n",
       "    <tr>\n",
       "      <th>2</th>\n",
       "      <td>ASTH100002</td>\n",
       "      <td>72</td>\n",
       "      <td>Female</td>\n",
       "      <td>17.6</td>\n",
       "      <td>Never</td>\n",
       "      <td>0</td>\n",
       "      <td>NaN</td>\n",
       "      <td>Moderate</td>\n",
       "      <td>Moderate</td>\n",
       "      <td>Indoor</td>\n",
       "      <td>NaN</td>\n",
       "      <td>0.38</td>\n",
       "      <td>0</td>\n",
       "      <td>303.3</td>\n",
       "      <td>15.3</td>\n",
       "      <td>0</td>\n",
       "      <td>NaN</td>\n",
       "    </tr>\n",
       "    <tr>\n",
       "      <th>3</th>\n",
       "      <td>ASTH100003</td>\n",
       "      <td>61</td>\n",
       "      <td>Male</td>\n",
       "      <td>16.8</td>\n",
       "      <td>Never</td>\n",
       "      <td>0</td>\n",
       "      <td>Multiple</td>\n",
       "      <td>High</td>\n",
       "      <td>Sedentary</td>\n",
       "      <td>Outdoor</td>\n",
       "      <td>Both</td>\n",
       "      <td>0.60</td>\n",
       "      <td>1</td>\n",
       "      <td>438.0</td>\n",
       "      <td>40.1</td>\n",
       "      <td>1</td>\n",
       "      <td>Poorly Controlled</td>\n",
       "    </tr>\n",
       "    <tr>\n",
       "      <th>4</th>\n",
       "      <td>ASTH100004</td>\n",
       "      <td>21</td>\n",
       "      <td>Male</td>\n",
       "      <td>30.2</td>\n",
       "      <td>Never</td>\n",
       "      <td>0</td>\n",
       "      <td>NaN</td>\n",
       "      <td>Moderate</td>\n",
       "      <td>Active</td>\n",
       "      <td>Indoor</td>\n",
       "      <td>NaN</td>\n",
       "      <td>0.82</td>\n",
       "      <td>3</td>\n",
       "      <td>535.0</td>\n",
       "      <td>27.7</td>\n",
       "      <td>0</td>\n",
       "      <td>NaN</td>\n",
       "    </tr>\n",
       "  </tbody>\n",
       "</table>\n",
       "</div>"
      ],
      "text/plain": [
       "   Patient_ID  Age  Gender   BMI Smoking_Status  Family_History Allergies  \\\n",
       "0  ASTH100000   52  Female  27.6         Former               1       NaN   \n",
       "1  ASTH100001   15    Male  24.6         Former               0      Dust   \n",
       "2  ASTH100002   72  Female  17.6          Never               0       NaN   \n",
       "3  ASTH100003   61    Male  16.8          Never               0  Multiple   \n",
       "4  ASTH100004   21    Male  30.2          Never               0       NaN   \n",
       "\n",
       "  Air_Pollution_Level Physical_Activity_Level Occupation_Type Comorbidities  \\\n",
       "0            Moderate               Sedentary         Outdoor      Diabetes   \n",
       "1                 Low                Moderate          Indoor          Both   \n",
       "2            Moderate                Moderate          Indoor           NaN   \n",
       "3                High               Sedentary         Outdoor          Both   \n",
       "4            Moderate                  Active          Indoor           NaN   \n",
       "\n",
       "   Medication_Adherence  Number_of_ER_Visits  Peak_Expiratory_Flow  \\\n",
       "0                  0.38                    0                 421.0   \n",
       "1                  0.60                    2                 297.6   \n",
       "2                  0.38                    0                 303.3   \n",
       "3                  0.60                    1                 438.0   \n",
       "4                  0.82                    3                 535.0   \n",
       "\n",
       "   FeNO_Level  Has_Asthma Asthma_Control_Level  \n",
       "0        46.0           0                  NaN  \n",
       "1        22.9           0                  NaN  \n",
       "2        15.3           0                  NaN  \n",
       "3        40.1           1    Poorly Controlled  \n",
       "4        27.7           0                  NaN  "
      ]
     },
     "execution_count": 2,
     "metadata": {},
     "output_type": "execute_result"
    }
   ],
   "source": [
    "df.head()"
   ]
  },
  {
   "cell_type": "code",
   "execution_count": 3,
   "id": "cf9f507e-1b31-449d-886b-136e2dffa152",
   "metadata": {},
   "outputs": [
    {
     "name": "stdout",
     "output_type": "stream",
     "text": [
      "<class 'pandas.core.frame.DataFrame'>\n",
      "RangeIndex: 10000 entries, 0 to 9999\n",
      "Data columns (total 17 columns):\n",
      " #   Column                   Non-Null Count  Dtype  \n",
      "---  ------                   --------------  -----  \n",
      " 0   Patient_ID               10000 non-null  object \n",
      " 1   Age                      10000 non-null  int64  \n",
      " 2   Gender                   10000 non-null  object \n",
      " 3   BMI                      10000 non-null  float64\n",
      " 4   Smoking_Status           10000 non-null  object \n",
      " 5   Family_History           10000 non-null  int64  \n",
      " 6   Allergies                7064 non-null   object \n",
      " 7   Air_Pollution_Level      10000 non-null  object \n",
      " 8   Physical_Activity_Level  10000 non-null  object \n",
      " 9   Occupation_Type          10000 non-null  object \n",
      " 10  Comorbidities            5033 non-null   object \n",
      " 11  Medication_Adherence     10000 non-null  float64\n",
      " 12  Number_of_ER_Visits      10000 non-null  int64  \n",
      " 13  Peak_Expiratory_Flow     10000 non-null  float64\n",
      " 14  FeNO_Level               10000 non-null  float64\n",
      " 15  Has_Asthma               10000 non-null  int64  \n",
      " 16  Asthma_Control_Level     2433 non-null   object \n",
      "dtypes: float64(4), int64(4), object(9)\n",
      "memory usage: 1.3+ MB\n"
     ]
    }
   ],
   "source": [
    "df.info()"
   ]
  },
  {
   "cell_type": "code",
   "execution_count": 4,
   "id": "0c85fc10-6cd1-4ef5-971c-2bfe3e4bdd1d",
   "metadata": {},
   "outputs": [
    {
     "data": {
      "text/plain": [
       "Patient_ID                  0.00\n",
       "Age                         0.00\n",
       "Gender                      0.00\n",
       "BMI                         0.00\n",
       "Smoking_Status              0.00\n",
       "Family_History              0.00\n",
       "Allergies                  29.36\n",
       "Air_Pollution_Level         0.00\n",
       "Physical_Activity_Level     0.00\n",
       "Occupation_Type             0.00\n",
       "Comorbidities              49.67\n",
       "Medication_Adherence        0.00\n",
       "Number_of_ER_Visits         0.00\n",
       "Peak_Expiratory_Flow        0.00\n",
       "FeNO_Level                  0.00\n",
       "Has_Asthma                  0.00\n",
       "Asthma_Control_Level       75.67\n",
       "dtype: float64"
      ]
     },
     "execution_count": 4,
     "metadata": {},
     "output_type": "execute_result"
    }
   ],
   "source": [
    "df.isnull().mean()*100"
   ]
  },
  {
   "cell_type": "code",
   "execution_count": 5,
   "id": "3868c7c7-1ac4-4157-b55b-61273b575520",
   "metadata": {},
   "outputs": [
    {
     "data": {
      "text/plain": [
       "<Axes: xlabel='Allergies'>"
      ]
     },
     "execution_count": 5,
     "metadata": {},
     "output_type": "execute_result"
    },
    {
     "data": {
      "image/png": "[encoded data removed]",
      "text/plain": [
       "<Figure size 640x480 with 1 Axes>"
      ]
     },
     "metadata": {},
     "output_type": "display_data"
    }
   ],
   "source": [
    "import seaborn as sns\n",
    "import matplotlib.pyplot as plt\n",
    "df[\"Allergies\"].value_counts().sort_values(ascending=False).plot.bar()"
   ]
  },
  {
   "cell_type": "code",
   "execution_count": 6,
   "id": "b2fd64f2-4167-4b70-a9ff-067b027e0fb3",
   "metadata": {},
   "outputs": [],
   "source": [
    "df[\"Allergies\"] = df[\"Allergies\"].fillna(\"Missing\")"
   ]
  },
  {
   "cell_type": "code",
   "execution_count": 7,
   "id": "46550d6e-762f-40e8-a860-0ad5bbf121c0",
   "metadata": {},
   "outputs": [
    {
     "data": {
      "text/plain": [
       "<Axes: xlabel='Allergies'>"
      ]
     },
     "execution_count": 7,
     "metadata": {},
     "output_type": "execute_result"
    },
    {
     "data": {
      "image/png": "[encoded data removed]",
      "text/plain": [
       "<Figure size 640x480 with 1 Axes>"
      ]
     },
     "metadata": {},
     "output_type": "display_data"
    }
   ],
   "source": [
    "df[\"Allergies\"].value_counts().sort_values(ascending=False).plot.bar()"
   ]
  },
  {
   "cell_type": "code",
   "execution_count": 8,
   "id": "96fff4cb-fdce-4480-aef5-bcc64dea4dcf",
   "metadata": {},
   "outputs": [
    {
     "data": {
      "text/plain": [
       "<Axes: xlabel='Comorbidities'>"
      ]
     },
     "execution_count": 8,
     "metadata": {},
     "output_type": "execute_result"
    },
    {
     "data": {
      "image/png": "[encoded data removed]",
      "text/plain": [
       "<Figure size 640x480 with 1 Axes>"
      ]
     },
     "metadata": {},
     "output_type": "display_data"
    }
   ],
   "source": [
    "df[\"Comorbidities\"].value_counts().sort_values(ascending=False).plot.bar()"
   ]
  },
  {
   "cell_type": "code",
   "execution_count": 9,
   "id": "08de21ac-5453-4278-a965-50d24b0d3927",
   "metadata": {},
   "outputs": [
    {
     "data": {
      "text/plain": [
       "<Axes: xlabel='Comorbidities'>"
      ]
     },
     "execution_count": 9,
     "metadata": {},
     "output_type": "execute_result"
    },
    {
     "data": {
      "image/png": "[encoded data removed]",
      "text/plain": [
       "<Figure size 640x480 with 1 Axes>"
      ]
     },
     "metadata": {},
     "output_type": "display_data"
    }
   ],
   "source": [
    "df[\"Comorbidities\"] = df[\"Comorbidities\"].fillna(\"Missing\")\n",
    "df[\"Comorbidities\"].value_counts().sort_values(ascending=False).plot.bar()"
   ]
  },
  {
   "cell_type": "code",
   "execution_count": 10,
   "id": "7df556d2-dff8-4d0d-b0d0-23bbe1183a51",
   "metadata": {},
   "outputs": [
    {
     "name": "stdout",
     "output_type": "stream",
     "text": [
      "Correlation between Allergies and Target: 0.10052117727694654, p-value: 7.025948654213285e-24\n",
      "Correlation between Comorbidities and Target: 0.002007786466333099, p-value: 0.8408911286059148\n"
     ]
    }
   ],
   "source": [
    "from sklearn.preprocessing import LabelEncoder\n",
    "from scipy.stats import pointbiserialr\n",
    "le_allergies = LabelEncoder()\n",
    "df['Allergies_encoded'] = le_allergies.fit_transform(df['Allergies'])\n",
    "le_comorbidities = LabelEncoder()\n",
    "df['Comorbidities_encoded'] = le_comorbidities.fit_transform(df['Comorbidities'])\n",
    "corr_allergies, pval_allergies = pointbiserialr(df['Allergies_encoded'], df['Has_Asthma'])\n",
    "corr_comorbidities, pval_comorbidities = pointbiserialr(df['Comorbidities_encoded'], df['Has_Asthma'])\n",
    "print(f\"Correlation between Allergies and Target: {corr_allergies}, p-value: {pval_allergies}\")\n",
    "print(f\"Correlation between Comorbidities and Target: {corr_comorbidities}, p-value: {pval_comorbidities}\")"
   ]
  },
  {
   "cell_type": "code",
   "execution_count": 11,
   "id": "3174e7a1-e1ef-42d7-a57f-9100c0d35852",
   "metadata": {},
   "outputs": [
    {
     "data": {
      "image/png": "[encoded data removed]",
      "text/plain": [
       "<Figure size 640x480 with 1 Axes>"
      ]
     },
     "metadata": {},
     "output_type": "display_data"
    }
   ],
   "source": [
    "sns.barplot(df,x=\"Smoking_Status\",y=\"Has_Asthma\")\n",
    "plt.show()"
   ]
  },
  {
   "cell_type": "code",
   "execution_count": 12,
   "id": "dab60e11-ee5e-423b-91b7-2c9a888ae0ee",
   "metadata": {},
   "outputs": [
    {
     "data": {
      "image/png": "[encoded data removed]",
      "text/plain": [
       "<Figure size 640x480 with 1 Axes>"
      ]
     },
     "metadata": {},
     "output_type": "display_data"
    }
   ],
   "source": [
    "sns.barplot(df,x=\"Gender\",y=\"Has_Asthma\")\n",
    "plt.show()"
   ]
  },
  {
   "cell_type": "code",
   "execution_count": 14,
   "id": "7e83f2e4-44ae-43ae-a5de-7c8ac90edf6d",
   "metadata": {},
   "outputs": [
    {
     "data": {
      "text/html": [
       "<div>\n",
       "<style scoped>\n",
       "    .dataframe tbody tr th:only-of-type {\n",
       "        vertical-align: middle;\n",
       "    }\n",
       "\n",
       "    .dataframe tbody tr th {\n",
       "        vertical-align: top;\n",
       "    }\n",
       "\n",
       "    .dataframe thead th {\n",
       "        text-align: right;\n",
       "    }\n",
       "</style>\n",
       "<table border=\"1\" class=\"dataframe\">\n",
       "  <thead>\n",
       "    <tr style=\"text-align: right;\">\n",
       "      <th></th>\n",
       "      <th>Patient_ID</th>\n",
       "      <th>Age</th>\n",
       "      <th>Gender</th>\n",
       "      <th>BMI</th>\n",
       "      <th>Smoking_Status</th>\n",
       "      <th>Family_History</th>\n",
       "      <th>Allergies</th>\n",
       "      <th>Air_Pollution_Level</th>\n",
       "      <th>Physical_Activity_Level</th>\n",
       "      <th>Occupation_Type</th>\n",
       "      <th>Comorbidities</th>\n",
       "      <th>Medication_Adherence</th>\n",
       "      <th>Number_of_ER_Visits</th>\n",
       "      <th>Peak_Expiratory_Flow</th>\n",
       "      <th>FeNO_Level</th>\n",
       "      <th>Has_Asthma</th>\n",
       "      <th>Asthma_Control_Level</th>\n",
       "      <th>Allergies_encoded</th>\n",
       "      <th>Comorbidities_encoded</th>\n",
       "    </tr>\n",
       "  </thead>\n",
       "  <tbody>\n",
       "    <tr>\n",
       "      <th>0</th>\n",
       "      <td>ASTH100000</td>\n",
       "      <td>52</td>\n",
       "      <td>Female</td>\n",
       "      <td>27.6</td>\n",
       "      <td>Former</td>\n",
       "      <td>1</td>\n",
       "      <td>Missing</td>\n",
       "      <td>Moderate</td>\n",
       "      <td>Sedentary</td>\n",
       "      <td>Outdoor</td>\n",
       "      <td>Diabetes</td>\n",
       "      <td>0.38</td>\n",
       "      <td>0</td>\n",
       "      <td>421.0</td>\n",
       "      <td>46.0</td>\n",
       "      <td>0</td>\n",
       "      <td>NaN</td>\n",
       "      <td>1</td>\n",
       "      <td>1</td>\n",
       "    </tr>\n",
       "    <tr>\n",
       "      <th>1</th>\n",
       "      <td>ASTH100001</td>\n",
       "      <td>15</td>\n",
       "      <td>Male</td>\n",
       "      <td>24.6</td>\n",
       "      <td>Former</td>\n",
       "      <td>0</td>\n",
       "      <td>Dust</td>\n",
       "      <td>Low</td>\n",
       "      <td>Moderate</td>\n",
       "      <td>Indoor</td>\n",
       "      <td>Both</td>\n",
       "      <td>0.60</td>\n",
       "      <td>2</td>\n",
       "      <td>297.6</td>\n",
       "      <td>22.9</td>\n",
       "      <td>0</td>\n",
       "      <td>NaN</td>\n",
       "      <td>0</td>\n",
       "      <td>0</td>\n",
       "    </tr>\n",
       "    <tr>\n",
       "      <th>2</th>\n",
       "      <td>ASTH100002</td>\n",
       "      <td>72</td>\n",
       "      <td>Female</td>\n",
       "      <td>17.6</td>\n",
       "      <td>Never</td>\n",
       "      <td>0</td>\n",
       "      <td>Missing</td>\n",
       "      <td>Moderate</td>\n",
       "      <td>Moderate</td>\n",
       "      <td>Indoor</td>\n",
       "      <td>Missing</td>\n",
       "      <td>0.38</td>\n",
       "      <td>0</td>\n",
       "      <td>303.3</td>\n",
       "      <td>15.3</td>\n",
       "      <td>0</td>\n",
       "      <td>NaN</td>\n",
       "      <td>1</td>\n",
       "      <td>3</td>\n",
       "    </tr>\n",
       "    <tr>\n",
       "      <th>3</th>\n",
       "      <td>ASTH100003</td>\n",
       "      <td>61</td>\n",
       "      <td>Male</td>\n",
       "      <td>16.8</td>\n",
       "      <td>Never</td>\n",
       "      <td>0</td>\n",
       "      <td>Multiple</td>\n",
       "      <td>High</td>\n",
       "      <td>Sedentary</td>\n",
       "      <td>Outdoor</td>\n",
       "      <td>Both</td>\n",
       "      <td>0.60</td>\n",
       "      <td>1</td>\n",
       "      <td>438.0</td>\n",
       "      <td>40.1</td>\n",
       "      <td>1</td>\n",
       "      <td>Poorly Controlled</td>\n",
       "      <td>2</td>\n",
       "      <td>0</td>\n",
       "    </tr>\n",
       "    <tr>\n",
       "      <th>4</th>\n",
       "      <td>ASTH100004</td>\n",
       "      <td>21</td>\n",
       "      <td>Male</td>\n",
       "      <td>30.2</td>\n",
       "      <td>Never</td>\n",
       "      <td>0</td>\n",
       "      <td>Missing</td>\n",
       "      <td>Moderate</td>\n",
       "      <td>Active</td>\n",
       "      <td>Indoor</td>\n",
       "      <td>Missing</td>\n",
       "      <td>0.82</td>\n",
       "      <td>3</td>\n",
       "      <td>535.0</td>\n",
       "      <td>27.7</td>\n",
       "      <td>0</td>\n",
       "      <td>NaN</td>\n",
       "      <td>1</td>\n",
       "      <td>3</td>\n",
       "    </tr>\n",
       "  </tbody>\n",
       "</table>\n",
       "</div>"
      ],
      "text/plain": [
       "   Patient_ID  Age  Gender   BMI Smoking_Status  Family_History Allergies  \\\n",
       "0  ASTH100000   52  Female  27.6         Former               1   Missing   \n",
       "1  ASTH100001   15    Male  24.6         Former               0      Dust   \n",
       "2  ASTH100002   72  Female  17.6          Never               0   Missing   \n",
       "3  ASTH100003   61    Male  16.8          Never               0  Multiple   \n",
       "4  ASTH100004   21    Male  30.2          Never               0   Missing   \n",
       "\n",
       "  Air_Pollution_Level Physical_Activity_Level Occupation_Type Comorbidities  \\\n",
       "0            Moderate               Sedentary         Outdoor      Diabetes   \n",
       "1                 Low                Moderate          Indoor          Both   \n",
       "2            Moderate                Moderate          Indoor       Missing   \n",
       "3                High               Sedentary         Outdoor          Both   \n",
       "4            Moderate                  Active          Indoor       Missing   \n",
       "\n",
       "   Medication_Adherence  Number_of_ER_Visits  Peak_Expiratory_Flow  \\\n",
       "0                  0.38                    0                 421.0   \n",
       "1                  0.60                    2                 297.6   \n",
       "2                  0.38                    0                 303.3   \n",
       "3                  0.60                    1                 438.0   \n",
       "4                  0.82                    3                 535.0   \n",
       "\n",
       "   FeNO_Level  Has_Asthma Asthma_Control_Level  Allergies_encoded  \\\n",
       "0        46.0           0                  NaN                  1   \n",
       "1        22.9           0                  NaN                  0   \n",
       "2        15.3           0                  NaN                  1   \n",
       "3        40.1           1    Poorly Controlled                  2   \n",
       "4        27.7           0                  NaN                  1   \n",
       "\n",
       "   Comorbidities_encoded  \n",
       "0                      1  \n",
       "1                      0  \n",
       "2                      3  \n",
       "3                      0  \n",
       "4                      3  "
      ]
     },
     "execution_count": 14,
     "metadata": {},
     "output_type": "execute_result"
    }
   ],
   "source": [
    "df.head()"
   ]
  },
  {
   "cell_type": "code",
   "execution_count": 15,
   "id": "fe16df9a-3e48-429f-ba4d-13d634d6898c",
   "metadata": {},
   "outputs": [],
   "source": [
    "col_drp=[\"Patient_ID\",\"Comorbidities\",\"Asthma_Control_Level\",\"Allergies_encoded\",\"Allergies_encoded\",\"Comorbidities_encoded\"]\n",
    "df=df.drop(col_drp,axis=1)"
   ]
  },
  {
   "cell_type": "code",
   "execution_count": 16,
   "id": "fcd84beb-b16a-4334-b1c1-0a4b18ec72a1",
   "metadata": {},
   "outputs": [
    {
     "data": {
      "text/plain": [
       "(10000, 14)"
      ]
     },
     "execution_count": 16,
     "metadata": {},
     "output_type": "execute_result"
    }
   ],
   "source": [
    "df.shape"
   ]
  },
  {
   "cell_type": "code",
   "execution_count": 34,
   "id": "1504d418-2ae5-4da3-84d0-0be571ca927a",
   "metadata": {},
   "outputs": [],
   "source": [
    "from sklearn.compose import ColumnTransformer\n",
    "from sklearn.preprocessing import OneHotEncoder,StandardScaler\n",
    "from sklearn.pipeline import Pipeline\n",
    "from sklearn.linear_model import LogisticRegression\n",
    "numerical_cols=[\"Age\",\"BMI\",\"Family_History\",\"Medication_Adherence\",\"Number_of_ER_Visits\",\"Peak_Expiratory_Flow\",\"FeNO_Level\"]\n",
    "categorical_cols=[\"Gender\",\"Smoking_Status\",\"Allergies\",\"Air_Pollution_Level\",\"Physical_Activity_Level\",\"Occupation_Type\"]\n",
    "preprocessor=ColumnTransformer(\n",
    "    transformers=[\n",
    "        (\"cat\",OneHotEncoder(handle_unknown=\"ignore\"),categorical_cols),\n",
    "        (\"num\",StandardScaler(),numerical_cols)\n",
    "    ],\n",
    "    remainder=\"passthrough\"\n",
    ")\n",
    "log_class=Pipeline(\n",
    "    [\n",
    "        (\"preprocessor\",preprocessor),\n",
    "        (\"classifier\",LogisticRegression())\n",
    "    ]\n",
    ")"
   ]
  },
  {
   "cell_type": "code",
   "execution_count": 35,
   "id": "1c9de7d6-d006-4466-98be-144f4e2d380a",
   "metadata": {},
   "outputs": [
    {
     "name": "stdout",
     "output_type": "stream",
     "text": [
      "Cross-validation scores: [0.9825   0.9875   0.9875   0.9875   0.980625]\n",
      "Mean cross-validation accuracy: 0.985125\n"
     ]
    }
   ],
   "source": [
    "from sklearn.model_selection import cross_val_score, KFold\n",
    "import numpy as np\n",
    "from sklearn.model_selection import train_test_split\n",
    "cv = KFold(n_splits=5, shuffle=True, random_state=42)\n",
    "X=df.drop(\"Has_Asthma\",axis=1)\n",
    "y=df[\"Has_Asthma\"]\n",
    "X_train, X_test, y_train, y_test = train_test_split(X, y, test_size=0.2, random_state=42)\n",
    "scores = cross_val_score(log_class, X_train, y_train, cv=cv, scoring='accuracy')\n",
    "print(\"Cross-validation scores:\", scores)\n",
    "print(\"Mean cross-validation accuracy:\", np.mean(scores))"
   ]
  },
  {
   "cell_type": "code",
   "execution_count": 36,
   "id": "b2cc04e4-e2e9-44e9-9426-5beb6b1531b5",
   "metadata": {},
   "outputs": [
    {
     "name": "stdout",
     "output_type": "stream",
     "text": [
      "Test set accuracy: 0.9895\n"
     ]
    }
   ],
   "source": [
    "log_class.fit(X_train, y_train)\n",
    "y_pred = log_class.predict(X_test)\n",
    "from sklearn.metrics import accuracy_score\n",
    "accuracy = accuracy_score(y_test, y_pred)\n",
    "print(\"Test set accuracy:\", accuracy)"
   ]
  },
  {
   "cell_type": "code",
   "execution_count": 23,
   "id": "e5af5120-76ae-4c99-afd5-510da7c7f9dd",
   "metadata": {},
   "outputs": [
    {
     "name": "stdout",
     "output_type": "stream",
     "text": [
      "Precision: 0.9896445901639344\n",
      "Recall: 0.9895\n",
      "F1 Score: 0.9894228554117611\n",
      "Confusion Matrix:\n",
      " [[1504    0]\n",
      " [  21  475]]\n",
      "\n",
      "Classification Report:\n",
      "               precision    recall  f1-score   support\n",
      "\n",
      "           0       0.99      1.00      0.99      1504\n",
      "           1       1.00      0.96      0.98       496\n",
      "\n",
      "    accuracy                           0.99      2000\n",
      "   macro avg       0.99      0.98      0.99      2000\n",
      "weighted avg       0.99      0.99      0.99      2000\n",
      "\n"
     ]
    }
   ],
   "source": [
    "from sklearn.metrics import precision_score, recall_score, f1_score, confusion_matrix, classification_report\n",
    "precision = precision_score(y_test, y_pred, average='weighted')\n",
    "recall = recall_score(y_test, y_pred, average='weighted')\n",
    "f1 = f1_score(y_test, y_pred, average='weighted')\n",
    "conf_matrix = confusion_matrix(y_test, y_pred)\n",
    "print(\"Precision:\", precision)\n",
    "print(\"Recall:\", recall)\n",
    "print(\"F1 Score:\", f1)\n",
    "print(\"Confusion Matrix:\\n\", conf_matrix)\n",
    "print(\"\\nClassification Report:\\n\", classification_report(y_test, y_pred))"
   ]
  },
  {
   "cell_type": "code",
   "execution_count": 24,
   "id": "a6a23a80-5f66-498c-bd24-0ee4291689d0",
   "metadata": {},
   "outputs": [
    {
     "data": {
      "image/png": "[encoded data removed]",
      "text/plain": [
       "<Figure size 600x400 with 1 Axes>"
      ]
     },
     "metadata": {},
     "output_type": "display_data"
    }
   ],
   "source": [
    "import seaborn as sns\n",
    "import matplotlib.pyplot as plt\n",
    "from sklearn.metrics import confusion_matrix\n",
    "cm = confusion_matrix(y_test, y_pred)\n",
    "plt.figure(figsize=(6,4))\n",
    "sns.heatmap(cm, annot=True, fmt='d', cmap='Blues', cbar=False)\n",
    "plt.xlabel('Predicted')\n",
    "plt.ylabel('Actual')\n",
    "plt.title('Confusion Matrix Heatmap')\n",
    "plt.show()\n"
   ]
  },
  {
   "cell_type": "code",
   "execution_count": 30,
   "id": "176eb6f1-f616-47e6-ba58-0e572296ac32",
   "metadata": {},
   "outputs": [],
   "source": [
    "from sklearn.compose import ColumnTransformer\n",
    "from sklearn.preprocessing import OneHotEncoder,StandardScaler\n",
    "from sklearn.pipeline import Pipeline\n",
    "from sklearn.tree import DecisionTreeClassifier\n",
    "numerical_cols=[\"Age\",\"BMI\",\"Family_History\",\"Medication_Adherence\",\"Number_of_ER_Visits\",\"Peak_Expiratory_Flow\",\"FeNO_Level\"]\n",
    "categorical_cols=[\"Gender\",\"Smoking_Status\",\"Allergies\",\"Air_Pollution_Level\",\"Physical_Activity_Level\",\"Occupation_Type\"]\n",
    "preprocessor=ColumnTransformer(\n",
    "    transformers=[\n",
    "        (\"cat\",OneHotEncoder(handle_unknown=\"ignore\"),categorical_cols),\n",
    "        (\"num\",StandardScaler(),numerical_cols)\n",
    "    ],\n",
    "    remainder=\"passthrough\"\n",
    ")\n",
    "dec_class=Pipeline(\n",
    "    [\n",
    "        (\"preprocessor\",preprocessor),\n",
    "        (\"classifier\",DecisionTreeClassifier())\n",
    "    ]\n",
    ")"
   ]
  },
  {
   "cell_type": "code",
   "execution_count": 37,
   "id": "648a811d-6a59-41b0-bec8-0872e4b6133a",
   "metadata": {},
   "outputs": [
    {
     "name": "stdout",
     "output_type": "stream",
     "text": [
      "Cross-validation scores: [1.       0.999375 1.       0.99875  1.      ]\n",
      "Mean cross-validation accuracy: 0.999625\n"
     ]
    }
   ],
   "source": [
    "from sklearn.model_selection import cross_val_score, KFold\n",
    "import numpy as np\n",
    "cv = KFold(n_splits=5, shuffle=True, random_state=42)\n",
    "X=df.drop(\"Has_Asthma\",axis=1)\n",
    "y=df[\"Has_Asthma\"]\n",
    "X_train, X_test, y_train, y_test = train_test_split(X, y, test_size=0.2, random_state=42)\n",
    "scores = cross_val_score(dec_class, X_train, y_train, cv=cv, scoring='accuracy')\n",
    "print(\"Cross-validation scores:\", scores)\n",
    "print(\"Mean cross-validation accuracy:\", np.mean(scores))"
   ]
  },
  {
   "cell_type": "code",
   "execution_count": 38,
   "id": "9934a563-0f4c-4933-82b7-8dba085d63a7",
   "metadata": {},
   "outputs": [
    {
     "name": "stdout",
     "output_type": "stream",
     "text": [
      "Test set accuracy: 0.9995\n"
     ]
    }
   ],
   "source": [
    "dec_class.fit(X_train, y_train)\n",
    "y_pred = dec_class.predict(X_test)\n",
    "from sklearn.metrics import accuracy_score\n",
    "accuracy = accuracy_score(y_test, y_pred)\n",
    "print(\"Test set accuracy:\", accuracy)"
   ]
  },
  {
   "cell_type": "code",
   "execution_count": 39,
   "id": "90a41b6b-467b-4e2c-9594-c438f4d6e6f1",
   "metadata": {},
   "outputs": [
    {
     "data": {
      "image/png": "[encoded data removed]",
      "text/plain": [
       "<Figure size 600x400 with 1 Axes>"
      ]
     },
     "metadata": {},
     "output_type": "display_data"
    }
   ],
   "source": [
    "import seaborn as sns\n",
    "import matplotlib.pyplot as plt\n",
    "from sklearn.metrics import confusion_matrix\n",
    "cm = confusion_matrix(y_test, y_pred)\n",
    "plt.figure(figsize=(6,4))\n",
    "sns.heatmap(cm, annot=True, fmt='d', cmap='Blues', cbar=False)\n",
    "plt.xlabel('Predicted')\n",
    "plt.ylabel('Actual')\n",
    "plt.title('Confusion Matrix Heatmap')\n",
    "plt.show()"
   ]
  },
  {
   "cell_type": "code",
   "execution_count": 40,
   "id": "d61e855a-cfd1-4604-8087-aaf8edf9e967",
   "metadata": {},
   "outputs": [
    {
     "name": "stdout",
     "output_type": "stream",
     "text": [
      "Precision: 0.9995003322259136\n",
      "Recall: 0.9995\n",
      "F1 Score: 0.9994998308136472\n",
      "Confusion Matrix:\n",
      " [[1504    0]\n",
      " [   1  495]]\n",
      "\n",
      "Classification Report:\n",
      "               precision    recall  f1-score   support\n",
      "\n",
      "           0       1.00      1.00      1.00      1504\n",
      "           1       1.00      1.00      1.00       496\n",
      "\n",
      "    accuracy                           1.00      2000\n",
      "   macro avg       1.00      1.00      1.00      2000\n",
      "weighted avg       1.00      1.00      1.00      2000\n",
      "\n"
     ]
    }
   ],
   "source": [
    "from sklearn.metrics import precision_score, recall_score, f1_score, confusion_matrix, classification_report\n",
    "precision = precision_score(y_test, y_pred, average='weighted')\n",
    "recall = recall_score(y_test, y_pred, average='weighted')\n",
    "f1 = f1_score(y_test, y_pred, average='weighted')\n",
    "conf_matrix = confusion_matrix(y_test, y_pred)\n",
    "print(\"Precision:\", precision)\n",
    "print(\"Recall:\", recall)\n",
    "print(\"F1 Score:\", f1)\n",
    "print(\"Confusion Matrix:\\n\", conf_matrix)\n",
    "print(\"\\nClassification Report:\\n\", classification_report(y_test, y_pred))"
   ]
  },
  {
   "cell_type": "code",
   "execution_count": 44,
   "id": "705b4503-d824-40ff-ad63-d16634a35f20",
   "metadata": {},
   "outputs": [
    {
     "name": "stdout",
     "output_type": "stream",
     "text": [
      "Has_Asthma                 1.000000\n",
      "Family_History             0.409531\n",
      "Physical_Activity_Level    0.265186\n",
      "Allergies                  0.100521\n",
      "BMI                        0.098425\n",
      "FeNO_Level                 0.007012\n",
      "Number_of_ER_Visits        0.005781\n",
      "Medication_Adherence       0.003785\n",
      "Gender                    -0.002069\n",
      "Age                       -0.004346\n",
      "Peak_Expiratory_Flow      -0.005207\n",
      "Occupation_Type           -0.010912\n",
      "Smoking_Status            -0.246034\n",
      "Air_Pollution_Level       -0.314804\n",
      "Name: Has_Asthma, dtype: float64\n"
     ]
    }
   ],
   "source": [
    "\n",
    "df_encoded = df.copy()\n",
    "\n",
    "\n",
    "for col in categorical_cols:\n",
    "    df_encoded[col] = df_encoded[col].astype('category').cat.codes\n",
    "\n",
    "\n",
    "correlations = df_encoded.corr()['Has_Asthma'].sort_values(ascending=False)\n",
    "print(correlations)\n"
   ]
  },
  {
   "cell_type": "code",
   "execution_count": 43,
   "id": "dafd902a-2d6d-4cc0-80e6-502a73ffd068",
   "metadata": {},
   "outputs": [
    {
     "name": "stdout",
     "output_type": "stream",
     "text": [
      "Smoking_Status\n",
      "Never      6070\n",
      "Former     2487\n",
      "Current    1443\n",
      "Name: count, dtype: int64\n",
      "Air_Pollution_Level\n",
      "Moderate    4915\n",
      "Low         2984\n",
      "High        2101\n",
      "Name: count, dtype: int64\n"
     ]
    }
   ],
   "source": [
    "print(df['Smoking_Status'].value_counts())\n",
    "print(df['Air_Pollution_Level'].value_counts())"
   ]
  }
 ],
 "metadata": {
  "kernelspec": {
   "display_name": "Python 3 (ipykernel)",
   "language": "python",
   "name": "python3"
  },
  "language_info": {
   "codemirror_mode": {
    "name": "ipython",
    "version": 3
   },
   "file_extension": ".py",
   "mimetype": "text/x-python",
   "name": "python",
   "nbconvert_exporter": "python",
   "pygments_lexer": "ipython3",
   "version": "3.11.9"
  }
 },
 "nbformat": 4,
 "nbformat_minor": 5
}
